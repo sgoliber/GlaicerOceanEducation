{
 "cells": [
  {
   "cell_type": "code",
   "execution_count": 113,
   "metadata": {},
   "outputs": [
    {
     "name": "stdout",
     "output_type": "stream",
     "text": [
      "/home/theghub/sgoliber/simpleice\n"
     ]
    }
   ],
   "source": [
    "import pandas as pd\n",
    "import matplotlib.pyplot as plt\n",
    "import numpy as np\n",
    "import matplotlib.pyplot as plt\n",
    "plt.rcParams.update({'font.size': 22})\n",
    "\n",
    "%cd /home/theghub/sgoliber/simpleice"
   ]
  },
  {
   "cell_type": "code",
   "execution_count": 114,
   "metadata": {},
   "outputs": [],
   "source": [
    "smb_steps = ['-20','-10','0','10','20']\n",
    "for smb in smb_steps:\n",
    "    h = pd.read_csv('smbsteps/SMBsteps_'+smb+'pct_h.csv',header=None)\n",
    "    bed = pd.read_csv('smbsteps/SMBsteps_'+smb+'pct_bed.csv',header=None)\n",
    "\n",
    "    bedx = pd.read_csv('smbsteps/SMBsteps_'+smb+'pct_bedx.csv',header=None)\n",
    "    bedx = bedx.iloc[0].to_numpy()\n",
    "    bedx = bedx/1000\n",
    "\n",
    "    bedz = pd.read_csv('smbsteps/SMBsteps_'+smb+'pct_bedz.csv',header=None)\n",
    "    bedz = bedz.iloc[0].to_numpy()\n",
    "\n",
    "    slope, _ = np.polyfit(bedx, bedz, 1)\n",
    "    # Extend the line\n",
    "    x_min = np.min(bedx)\n",
    "    x_max = np.max(bedx)\n",
    "    y_min = np.min(bedz)\n",
    "    y_max = np.max(bedz)\n",
    "    extension_factor = 1.5  # Adjust this factor to extend the line further\n",
    "    extended_x = np.array([x_min - extension_factor * (x_max - x_min), x_max + extension_factor * (x_max - x_min)])\n",
    "    extended_y = slope * extended_x\n",
    "\n",
    "    # Create a figure and axes\n",
    "    initial_pos = bed.iloc[1].to_numpy()[-1]*-1\n",
    "\n",
    "    for i in range(1,100,1):\n",
    "        fig, ax = plt.subplots(figsize=(10,6))\n",
    "        ax.fill_between(extended_x, extended_y, y2 = -1000, color='peru',hatch=\"\\\\\",edgecolor=\"sienna\", zorder=1000)\n",
    "        bed_p = bed.iloc[i].to_numpy()\n",
    "        h_p = h.iloc[i].to_numpy()\n",
    "\n",
    "        ax.fill_between(bed_p*-1,h_p*1000, y2=-1000, alpha=0.6,color='lightsteelblue', zorder=0)\n",
    "\n",
    "        plt.savefig('plots/smb_step_'+smb+'_'+str(i)+'.png')\n",
    "\n",
    "        ax.set_ylabel('Z (m)')\n",
    "        ax.set_xlabel('X (m)')\n",
    "        ax.set_title('SMB ' +smb+ '%: Year = ' + str(i))\n",
    "\n",
    "        ax.set_xlim(365,385)\n",
    "        ax.set_ylim(-1000,1000)\n",
    "        \n",
    "        ax.tick_params(axis='x', labelrotation = 45)\n",
    "                \n",
    "        ax.vlines(x=initial_pos, ymin=-1000, ymax=1000, linewidth=1, color='r',zorder=500)\n",
    "        ax.text(initial_pos+.1, -100, 'Initial Position', rotation = 'vertical',fontsize = '15')\n",
    "\n",
    "\n",
    "        plt.savefig('plots/smb_step_'+smb+'_'+str(i)+'.png',bbox_inches = 'tight')\n",
    "        plt.close()\n"
   ]
  },
  {
   "cell_type": "code",
   "execution_count": null,
   "metadata": {},
   "outputs": [],
   "source": [
    "import numpy as np\n",
    "import matplotlib.pyplot as plt\n",
    "\n",
    "# Plot steady-state profile\n",
    "fig, ax = plt.subplots(2, 1)\n",
    "ax[0].hold(True)\n",
    "\n",
    "xx = np.linspace(0, 1.1 * params.xscale * xg, 1000)  # arbitrary x grid\n",
    "xh0 = np.array([params.sigma_elem, 1]) * xg * params.xscale  # x coords of ice thickness nodes\n",
    "xu0 = np.array([params.sigma]) * xg * params.xscale  # x coords of ice vel. nodes\n",
    "sfc0 = np.array([h * params.hscale, hf0]) + bed(xh0, params)\n",
    "topog0 = bed(xh0, params)\n",
    "ax[0].fill(np.concatenate([xh0, np.flip(xh0)]) / 1e3, np.concatenate([sfc0, np.flip(topog0)]), 'c')\n",
    "ax[0].fill_between(xx / 1e3, bed(xx, params), -2000, facecolor='black')\n",
    "ax[0].plot(xx / 1e3, np.zeros_like(xx), 'b:')\n",
    "ax[0].set_xlim([0, np.max(xx)] / 1e3)\n",
    "ax[0].set_ylim([-1300, 2500])\n",
    "ax[0].set_xlabel('X (km)')\n",
    "ax[0].set_ylabel('Z (m)')\n",
    "ax[0].set_title('Initial Glacier profile')\n",
    "ax[0].alpha(0.2)\n",
    "\n",
    "ax[1].plot(xu0 / 1e3, u * params.uscale * params.year, '--', linewidth=1)\n",
    "ax[1].set_xlabel('X (km)')\n",
    "ax[1].set_ylabel('Ice-low velocity (m/yr)')\n",
    "ax[1].set_xlim([0, np.max(xx)] / 1e3)\n",
    "\n",
    "plt.show()\n"
   ]
  }
 ],
 "metadata": {
  "kernelspec": {
   "display_name": "Python 3 (ipykernel)",
   "language": "python",
   "name": "python3"
  },
  "language_info": {
   "codemirror_mode": {
    "name": "ipython",
    "version": 3
   },
   "file_extension": ".py",
   "mimetype": "text/x-python",
   "name": "python",
   "nbconvert_exporter": "python",
   "pygments_lexer": "ipython3",
   "version": "3.8.10"
  }
 },
 "nbformat": 4,
 "nbformat_minor": 4
}
