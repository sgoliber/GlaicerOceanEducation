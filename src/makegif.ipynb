{
 "cells": [
  {
   "cell_type": "code",
   "execution_count": 1,
   "metadata": {},
   "outputs": [
    {
     "name": "stdout",
     "output_type": "stream",
     "text": [
      "/home/theghub/sgoliber/simpleice\n"
     ]
    }
   ],
   "source": [
    "import imageio\n",
    "%cd /home/theghub/sgoliber/simpleice"
   ]
  },
  {
   "cell_type": "code",
   "execution_count": 3,
   "metadata": {},
   "outputs": [],
   "source": [
    "smb_steps = ['-20','-10','0','10','20']\n",
    "for smb in smb_steps:\n",
    "    \n",
    "    for fps in [1,2,4]:\n",
    "    \n",
    "        frames = []\n",
    "\n",
    "        for i in range(1,100,1):\n",
    "            image = imageio.imread('plots/smb_step_'+smb+'_'+str(i)+'.png')\n",
    "            frames.append(image)\n",
    "\n",
    "\n",
    "        imageio.mimsave('gifs/smb_step_'+smb+'_'+str(fps)+'_.gif', # output gif\n",
    "                    frames,          # array of input frames\n",
    "                    fps = fps,\n",
    "                    loop = 2)         # optional: frames per second"
   ]
  },
  {
   "cell_type": "code",
   "execution_count": null,
   "metadata": {},
   "outputs": [],
   "source": []
  }
 ],
 "metadata": {
  "kernelspec": {
   "display_name": "Python 3 (ipykernel)",
   "language": "python",
   "name": "python3"
  },
  "language_info": {
   "codemirror_mode": {
    "name": "ipython",
    "version": 3
   },
   "file_extension": ".py",
   "mimetype": "text/x-python",
   "name": "python",
   "nbconvert_exporter": "python",
   "pygments_lexer": "ipython3",
   "version": "3.8.10"
  }
 },
 "nbformat": 4,
 "nbformat_minor": 4
}
